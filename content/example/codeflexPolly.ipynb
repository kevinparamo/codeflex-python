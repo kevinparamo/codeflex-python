{
  "metadata": {
    "kernelspec": {
      "name": "python",
      "display_name": "Python (Pyodide)",
      "language": "python"
    },
    "language_info": {
      "codemirror_mode": {
        "name": "python",
        "version": 3
      },
      "file_extension": ".py",
      "mimetype": "text/x-python",
      "name": "python",
      "nbconvert_exporter": "python",
      "pygments_lexer": "ipython3",
      "version": "3.8"
    }
  },
  "nbformat_minor": 4,
  "nbformat": 4,
  "cells": [
    {
      "cell_type": "code",
      "source": "import piplite\nawait piplite.install(\"codeflex\")",
      "metadata": {
        "trusted": true
      },
      "outputs": [],
      "execution_count": 1
    },
    {
      "cell_type": "code",
      "source": "from codeflex.company import polly\n\nText = \"your_text\" # Texto Personalizado\nVoiceId = \"Lupe\" # Para cambiar el VoiceId y LanguageCode, consulta la documentación. | API de Conexión a Polly\nLanguageCode = \"es-US\"\nTokenSub = \"your_tokensub\" # Para acceder a este servicio, utiliza tu TokenSub, que es un identificador único por cuenta y es necesario que pertenezcas al plan premium. | https://codeflex.com.co/drive/index.html#/Polly\n\nrespuesta = polly.download(Text, VoiceId,LanguageCode,TokenSub)\nprint(respuesta)",
      "metadata": {
        "trusted": true
      },
      "outputs": [
        {
          "name": "stdout",
          "text": "{'audioUrl': 'https://s3.amazonaws.com/hub.codeflex.lat/audioStream_1725663086994.mp3'}\n",
          "output_type": "stream"
        }
      ],
      "execution_count": 2
    },
    {
      "cell_type": "code",
      "source": "",
      "metadata": {
        "trusted": true
      },
      "outputs": [],
      "execution_count": null
    }
  ]
}