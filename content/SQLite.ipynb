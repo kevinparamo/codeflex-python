{
  "metadata": {
    "kernelspec": {
      "name": "python",
      "display_name": "Python (Pyodide)",
      "language": "python"
    },
    "language_info": {
      "codemirror_mode": {
        "name": "python",
        "version": 3
      },
      "file_extension": ".py",
      "mimetype": "text/x-python",
      "name": "python",
      "nbconvert_exporter": "python",
      "pygments_lexer": "ipython3",
      "version": "3.8"
    }
  },
  "nbformat_minor": 4,
  "nbformat": 4,
  "cells": [
    {
      "cell_type": "code",
      "source": "# Crear DB\nimport sqlite3\nimport os\nfrom IPython.display import FileLink\n\n# Crear una base de datos en memoria\nconn = sqlite3.connect(':memory:')\ncursor = conn.cursor()\n\n# Crear tabla de estudiantes\ncursor.execute('''\nCREATE TABLE IF NOT EXISTS estudiantes (\n    id INTEGER PRIMARY KEY AUTOINCREMENT,\n    nombre TEXT NOT NULL,\n    apellido TEXT NOT NULL,\n    edad INTEGER NOT NULL\n)\n''')\n\n# Insertar algunos datos\nestudiantes_data = [\n    ('Juan', 'Pérez', 20),\n    ('María', 'García', 22),\n    ('Pedro', 'Rodríguez', 21),\n    ('Ana', 'López', 23)\n]\n\ncursor.executemany('''\nINSERT INTO estudiantes (nombre, apellido, edad)\nVALUES (?, ?, ?)\n''', estudiantes_data)\n\n# Guardar cambios\nconn.commit()\n\n# Guardar la base de datos en un archivo en el sistema de archivos\ndb_name = 'estudiantes.db'\ndisk_conn = sqlite3.connect(db_name)\nwith disk_conn:\n    conn.backup(disk_conn)\ndisk_conn.close()\n\n# Cerrar la conexión en memoria\nconn.close()\n\n# Verificar si el archivo de la base de datos existe y generar el enlace de descarga\nif os.path.exists(db_name):\n    print(f\"Base de datos '{db_name}' creada y guardada exitosamente.\")\nelse:\n    print(\"No se pudo generar la base de datos.\")",
      "metadata": {
        "trusted": true
      },
      "outputs": [
        {
          "name": "stdout",
          "text": "Base de datos 'estudiantes.db' creada y guardada exitosamente.\n",
          "output_type": "stream"
        }
      ],
      "execution_count": 1
    },
    {
      "cell_type": "code",
      "source": "# Consultar\n# Conectar a la base de datos SQLite\nconn = sqlite3.connect('estudiantes.db')\ncur = conn.cursor()\n\n# Consultar los datos\ncur.execute(\"SELECT * FROM estudiantes\")\nresult = cur.fetchall()\n\n# Mostrar los resultados\nfor row in result:\n    print(row)\n\n# Cerrar la conexión\nconn.close()",
      "metadata": {
        "trusted": true
      },
      "outputs": [
        {
          "name": "stdout",
          "text": "(1, 'Juan', 'Pérez', 20)\n(2, 'María', 'García', 22)\n(3, 'Pedro', 'Rodríguez', 21)\n(4, 'Ana', 'López', 23)\n",
          "output_type": "stream"
        }
      ],
      "execution_count": 2
    },
    {
      "cell_type": "code",
      "source": "# Insertar\n# Conectar a la base de datos SQLite\nconn = sqlite3.connect('estudiantes.db')\ncur = conn.cursor()\n\n# Insertar un nuevo registro en la tabla\ncur.execute(\"INSERT INTO estudiantes VALUES (?, ?, ?, ?)\", (5, 'Carlos','Lopez',45))\n\n# Guardar los cambios\nconn.commit()\n\n# Consultar los datos actualizados\ncur.execute(\"SELECT * FROM estudiantes\")\nresult = cur.fetchall()\n\n# Mostrar los resultados\nfor row in result:\n    print(row)\n\n# Cerrar la conexión\nconn.close()",
      "metadata": {
        "trusted": true
      },
      "outputs": [
        {
          "name": "stdout",
          "text": "(1, 'Juan', 'Pérez', 20)\n(2, 'María', 'García', 22)\n(3, 'Pedro', 'Rodríguez', 21)\n(4, 'Ana', 'López', 23)\n(5, 'Carlos', 'Lopez', 45)\n",
          "output_type": "stream"
        }
      ],
      "execution_count": 4
    }
  ]
}