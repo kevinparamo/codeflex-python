{
  "cells": [
    {
      "cell_type": "code",
      "execution_count": 1,
      "metadata": {
        "trusted": true
      },
      "outputs": [],
      "source": [
        "import piplite\n",
        "await piplite.install(\"codeflex\")"
      ]
    },
    {
      "cell_type": "code",
      "execution_count": 2,
      "metadata": {
        "trusted": true
      },
      "outputs": [
        {
          "name": "stdout",
          "output_type": "stream",
          "text": [
            "{'audioUrl': 'https://s3.amazonaws.com/hub.codeflex.lat/audioStream_1725663086994.mp3'}\n"
          ]
        }
      ],
      "source": [
        "from codeflex.company import polly\n",
        "\n",
        "Text = \"your_text\" # Texto Personalizado\n",
        "VoiceId = \"Lupe\" # Para cambiar el VoiceId y LanguageCode, consulta la documentación. | API de Conexión a Polly\n",
        "LanguageCode = \"es-US\"\n",
        "TokenSub = \"your_tokensub\" # Para acceder a este servicio, utiliza tu TokenSub, que es un identificador único por cuenta y es necesario que pertenezcas al plan premium. | https://codeflex.com.co/drive/index.html#/Polly\n",
        "\n",
        "respuesta = polly.download(Text, VoiceId,LanguageCode,TokenSub)\n",
        "print(respuesta)"
      ]
    }
  ],
  "metadata": {
    "kernelspec": {
      "display_name": "Python (Pyodide)",
      "language": "python",
      "name": "python"
    },
    "language_info": {
      "codemirror_mode": {
        "name": "python",
        "version": 3
      },
      "file_extension": ".py",
      "mimetype": "text/x-python",
      "name": "python",
      "nbconvert_exporter": "python",
      "pygments_lexer": "ipython3",
      "version": "3.8"
    }
  },
  "nbformat": 4,
  "nbformat_minor": 4
}
